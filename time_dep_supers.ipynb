{
 "metadata": {
  "name": "",
  "signature": "sha256:345924c4a0981f3903dead453465d48b1f2a24a028d819d3f2083c409e039c67"
 },
 "nbformat": 3,
 "nbformat_minor": 0,
 "worksheets": [
  {
   "cells": [
    {
     "cell_type": "code",
     "collapsed": false,
     "input": [
      "%matplotlib inline\n",
      "from qutip import *\n",
      "from math import *\n",
      "from pylab import *\n",
      "from qutip.ipynbtools import version_table\n",
      "version_table()"
     ],
     "language": "python",
     "metadata": {},
     "outputs": [
      {
       "html": [
        "<table><tr><th>Software</th><th>Version</th></tr><tr><td>Cython</td><td>0.20.1post0</td></tr><tr><td>matplotlib</td><td>1.3.1</td></tr><tr><td>Python</td><td>3.4.0 (default, Apr 11 2014, 13:05:11) \n",
        "[GCC 4.8.2]</td></tr><tr><td>QuTiP</td><td>3.0.1</td></tr><tr><td>IPython</td><td>1.2.1</td></tr><tr><td>Numpy</td><td>1.8.1</td></tr><tr><td>SciPy</td><td>0.13.3</td></tr><tr><td>OS</td><td>posix [linux]</td></tr><tr><td colspan='2'>Fri Sep 05 20:42:37 2014 PDT</td></tr></table>"
       ],
       "metadata": {},
       "output_type": "pyout",
       "prompt_number": 18,
       "text": [
        "<IPython.core.display.HTML at 0x7feecfe3a160>"
       ]
      }
     ],
     "prompt_number": 18
    },
    {
     "cell_type": "code",
     "collapsed": false,
     "input": [
      "NN = 20;\n",
      "\n",
      "ti  =  0; # Keep at zero always\n",
      "tf  =  2;\n",
      "res =  50;\n",
      "t=linspace(ti,tf,res) # start time, end time, number of increments\n",
      "\n",
      "# Parameter and input state\n",
      "alp = 0.23\n",
      "def alp1(t,args): \n",
      "    return 1.0*sqrt(alp)+0.*t\n",
      "def alp1sq(t,args): \n",
      "    return 1.0*alp+0.*t\n",
      "inp = ( coherent(NN,1) + coherent(NN,2) ) .unit()\n",
      "\n",
      "# Jumps\n",
      "F1 = spre(destroy(NN))*spost(create(NN))-0.5*spre(num(NN))-0.5*spost(num(NN))\n",
      "\n",
      "# Time indep. input\n",
      "out0 = mesolve(0*qeye(NN),inp,t,[sqrt(alp)*destroy(NN)],[])\n",
      "\n",
      "# Time dep. input\n",
      "out1 = mesolve(0*qeye(NN),inp,t,[qeye(NN),[destroy(NN),alp1]],[])\n",
      "\n",
      "# Time indep. superoperator input\n",
      "out2 = mesolve(0*qeye(NN),inp,t,[alp*F1],[])\n",
      "\n",
      "# Time dep. superoperator input: list array\n",
      "out3 = mesolve(0*qeye(NN),inp,t,[[F1,alp+0.*t]],[])\n",
      "\n",
      "# Time dep. superoperator input: list callback\n",
      "out4 = mesolve(0*qeye(NN),inp,t,[[F1,alp1sq]],[])"
     ],
     "language": "python",
     "metadata": {},
     "outputs": [],
     "prompt_number": 6
    },
    {
     "cell_type": "code",
     "collapsed": false,
     "input": [
      "# Check Liouvillian\n",
      "truth = liouvillian(0*qeye(NN),[sqrt(alp)*destroy(NN)])\n",
      "print( ( truth - liouvillian(0*qeye(NN),[alp1(t,[])[0]*destroy(NN)]) ).norm() )\n",
      "print( ( truth - alp*F1 ).norm() )\n",
      "print( ( truth - (alp+0.*t[0])*F1 ).norm() )\n",
      "print( ( truth - alp1sq(t,[])[0]*F1 ).norm() )"
     ],
     "language": "python",
     "metadata": {},
     "outputs": [
      {
       "output_type": "stream",
       "stream": "stdout",
       "text": [
        "0.0\n",
        "0.0"
       ]
      },
      {
       "output_type": "stream",
       "stream": "stdout",
       "text": [
        "\n",
        "0.0"
       ]
      },
      {
       "output_type": "stream",
       "stream": "stdout",
       "text": [
        "\n",
        "0.0"
       ]
      },
      {
       "output_type": "stream",
       "stream": "stdout",
       "text": [
        "\n"
       ]
      }
     ],
     "prompt_number": 16
    },
    {
     "cell_type": "code",
     "collapsed": false,
     "input": [
      "# Check state\n",
      "print( ( out0.states[res-1] - out1.states[res-1] ).norm() )\n",
      "print( ( out0.states[res-1] - out2.states[res-1] ).norm() )\n",
      "print( ( out0.states[res-1] - out3.states[res-1] ).norm() )\n",
      "print( ( out0.states[res-1] - out4.states[res-1] ).norm() )"
     ],
     "language": "python",
     "metadata": {},
     "outputs": [
      {
       "output_type": "stream",
       "stream": "stdout",
       "text": [
        "0.0\n",
        "0.0\n",
        "4.84003555828e-05\n",
        "0.386278782619\n"
       ]
      }
     ],
     "prompt_number": 17
    },
    {
     "cell_type": "code",
     "collapsed": false,
     "input": [],
     "language": "python",
     "metadata": {},
     "outputs": []
    }
   ],
   "metadata": {}
  }
 ]
}