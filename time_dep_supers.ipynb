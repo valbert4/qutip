{
 "metadata": {
  "name": "",
  "signature": "sha256:345924c4a0981f3903dead453465d48b1f2a24a028d819d3f2083c409e039c67"
 },
 "nbformat": 3,
 "nbformat_minor": 0,
 "worksheets": [
  {
   "cells": [
    {
     "cell_type": "code",
     "collapsed": false,
     "input": [
      "%matplotlib inline\n",
      "from qutip import *\n",
      "from math import *\n",
      "from pylab import *\n",
      "#import sys\n",
      "#import time\n",
      "#from IPython.display import display, clear_output\n",
      "#import matplotlib.pyplot as plt\n",
      "#from matplotlib import cm"
     ],
     "language": "python",
     "metadata": {},
     "outputs": [],
     "prompt_number": 3
    },
    {
     "cell_type": "markdown",
     "metadata": {},
     "source": [
      "# Input Lindblad operator"
     ]
    },
    {
     "cell_type": "code",
     "collapsed": false,
     "input": [
      "NN = 20;\n",
      "\n",
      "ti  =  0; # Keep at zero always\n",
      "tf  =  2;\n",
      "res =  50;\n",
      "t=linspace(ti,tf,res) # start time, end time, number of increments\n",
      "\n",
      "# Parameter and input state\n",
      "alp = 0.23\n",
      "def alp1(t,args): return sqrt(alp)+0.*t\n",
      "def alp1sq(t,args): return alp+0.*t\n",
      "inp = ( coherent(NN,1) + coherent(NN,2) ) .unit()\n",
      "\n",
      "# Jumps\n",
      "F1 = spre(destroy(NN))*spost(create(NN))-0.5*spre(num(NN))-0.5*spost(num(NN))\n",
      "\n",
      "# Time indep. input\n",
      "out0 = mesolve(0*qeye(NN),inp,t,[sqrt(alp)*destroy(NN)],[])\n",
      "\n",
      "# Time dep. input\n",
      "out1 = mesolve(0*qeye(NN),inp,t,[qeye(NN),[destroy(NN),alp1]],[])\n",
      "\n",
      "# Time indep. superoperator input\n",
      "out2 = mesolve(0*qeye(NN),inp,t,[alp*F1],[])\n",
      "\n",
      "# Time dep. superoperator input: list array\n",
      "out3 = mesolve(0*qeye(NN),inp,t,[[F1,alp+0.*t]],[])\n",
      "\n",
      "# Time dep. superoperator input: list callback\n",
      "out4 = mesolve(0*qeye(NN),inp,t,[[F1,alp1sq]],[])"
     ],
     "language": "python",
     "metadata": {},
     "outputs": [],
     "prompt_number": 7
    },
    {
     "cell_type": "code",
     "collapsed": false,
     "input": [
      "# Check Liouvillian\n",
      "truth = liouvillian(0*qeye(NN),[sqrt(alp)*destroy(NN)])\n",
      "print ( truth - liouvillian(0*qeye(NN),[alp1(t,[])[0]*destroy(NN)]) ).norm() \n",
      "print ( truth - alp*F1 ).norm()\n",
      "print ( truth - (alp+0.*t[0])*F1 ).norm()\n",
      "print ( truth - alp1sq(t,[])[0]*F1 ).norm()"
     ],
     "language": "python",
     "metadata": {},
     "outputs": [
      {
       "output_type": "stream",
       "stream": "stdout",
       "text": [
        "0.0\n",
        "0.0"
       ]
      },
      {
       "output_type": "stream",
       "stream": "stdout",
       "text": [
        "\n",
        "0.0"
       ]
      },
      {
       "output_type": "stream",
       "stream": "stdout",
       "text": [
        "\n",
        "0.0"
       ]
      },
      {
       "output_type": "stream",
       "stream": "stdout",
       "text": [
        "\n"
       ]
      }
     ],
     "prompt_number": 8
    },
    {
     "cell_type": "code",
     "collapsed": false,
     "input": [
      "# Check state\n",
      "print ( out0.states[res-1] - out1.states[res-1] ).norm()\n",
      "print ( out0.states[res-1] - out2.states[res-1] ).norm()\n",
      "print ( out0.states[res-1] - out3.states[res-1] ).norm()\n",
      "print ( out0.states[res-1] - out4.states[res-1] ).norm()"
     ],
     "language": "python",
     "metadata": {},
     "outputs": [
      {
       "output_type": "stream",
       "stream": "stdout",
       "text": [
        "0.0\n",
        "0.0\n",
        "4.84003555828e-05\n",
        "0.386278782619\n"
       ]
      }
     ],
     "prompt_number": 9
    },
    {
     "cell_type": "code",
     "collapsed": false,
     "input": [],
     "language": "python",
     "metadata": {},
     "outputs": []
    }
   ],
   "metadata": {}
  }
 ]
}